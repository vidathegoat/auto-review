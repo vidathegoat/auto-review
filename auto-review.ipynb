{
 "cells": [
  {
   "metadata": {},
   "cell_type": "markdown",
   "source": [
    "# 🚀 Auto Manual Review\n",
    "---\n",
    "### The code is in the proper order.\n",
    "### 👉 **Run each cell according to the instructions above each code cell.**"
   ],
   "id": "a55cc9766578e600"
  },
  {
   "metadata": {},
   "cell_type": "markdown",
   "source": [
    "## 💻 Environment Setup\n",
    "\n",
    "To run this notebook smoothly, we recommend the following environment:\n",
    "\n",
    "### 🧠 IDE\n",
    "- **[Visual Studio Code](https://code.visualstudio.com/)** (VS Code)\n",
    "  A lightweight, powerful editor that supports Jupyter notebooks out of the box.\n",
    "\n",
    "### 🧩 Required Extensions\n",
    "- **Jupyter** extension (published by Microsoft)\n",
    "  - Go to Extensions `(Ctrl+Shift+X)` → Search for `Jupyter` → Install.\n",
    "- (Optional) **Python** extension (also by Microsoft) for syntax highlighting and Python support.\n",
    "\n",
    "### 🧪 Python Environment\n",
    "- Python version **3.9+** recommended.\n",
    "- Use `venv`, `conda`, or your preferred environment manager to isolate dependencies.\n",
    "\n",
    "### 🔁 Kernel Instructions\n",
    "Once you open the notebook:\n",
    "1. Click the top-right **kernel selector** (it may say “Python 3” or “Select Kernel”).\n",
    "2. Choose the environment where you've installed your requirements.\n",
    "3. If no environment appears, make sure it’s activated and Python is installed."
   ],
   "id": "8870d815d78a864c"
  },
  {
   "metadata": {},
   "cell_type": "markdown",
   "source": [
    "## ▶️ How to Use\n",
    "\n",
    "This project is designed as a Jupyter Notebook, which runs Python code in cells. Here's how to interact with it:\n",
    "\n",
    "### 🧾 Opening the Notebook\n",
    "1. Launch **VS Code**.\n",
    "2. Open the folder containing this project.\n",
    "3. Open the `.ipynb` file (`auto_manual_review.ipynb` or similar).\n",
    "\n",
    "### 🚀 Running Cells\n",
    "- **Click** on a cell to select it.\n",
    "- **Run a cell** by pressing:\n",
    "  - `Shift + Enter` — runs the cell and moves to the next.\n",
    "  - `Ctrl + Enter` — runs the cell but keeps the focus on it.\n",
    "  - You can also use the **▶️ Run** button in the top bar.\n",
    "\n",
    "### 📌 Important Notes\n",
    "- **Run cells in order.** The notebook is designed to be executed from top to bottom.\n",
    "- **Don't skip setup cells**, especially those that handle imports, functions, and cookie authentication.\n",
    "- Output will appear directly below each cell when run."
   ],
   "id": "8ba4dfd1fde08f21"
  },
  {
   "metadata": {},
   "cell_type": "markdown",
   "source": [
    "# 📦 Cell 0: First-Time Setup 🚀\n",
    "---\n",
    "This cell ensures that all the required libraries are installed and ready to go for running the rest of the notebook.\n",
    "\n",
    "✅ **What It Does**:\n",
    "- Automatically checks for missing libraries:\n",
    "  - `selenium`\n",
    "  - `beautifulsoup4`\n",
    "  - `pandas`\n",
    "  - `requests`\n",
    "  - `pyclip`\n",
    "- Installs any missing ones using `pip`.\n",
    "\n",
    "📌 **When to Use**:\n",
    "- The very first time you run this notebook.\n",
    "- Or if you’ve reinstalled Python or created a fresh environment.\n",
    "\n",
    "🧰 **Outcome**:\n",
    "All dependencies are ready — you're all set to move forward!"
   ],
   "id": "3966da893a88990d"
  },
  {
   "metadata": {
    "ExecuteTime": {
     "end_time": "2025-05-19T12:46:59.701208Z",
     "start_time": "2025-05-19T12:46:55.994671Z"
    }
   },
   "cell_type": "code",
   "source": [
    "# 🚀 First-Time Setup: Check and Install Required Packages\n",
    "\n",
    "import subprocess\n",
    "import sys\n",
    "\n",
    "# List of required packages\n",
    "required_packages = [\"selenium\", \"beautifulsoup4\", \"pandas\", \"requests\", \"pyclip\"]\n",
    "\n",
    "def install_package(package):\n",
    "    \"\"\"Install package using pip.\"\"\"\n",
    "    subprocess.check_call([sys.executable, \"-m\", \"pip\", \"install\", package])\n",
    "\n",
    "# Try importing each package, install if not found\n",
    "for package in required_packages:\n",
    "    try:\n",
    "        __import__(package.split('==')[0])\n",
    "        print(f\"✅ {package} is already installed.\")\n",
    "    except ImportError:\n",
    "        print(f\"📦 {package} not found. Installing...\")\n",
    "        install_package(package)\n",
    "        print(f\"✅ {package} installed successfully!\")\n",
    "\n",
    "print(\"\\n🎉 Environment is ready!\")"
   ],
   "id": "cae81adf10b81231",
   "outputs": [
    {
     "name": "stdout",
     "output_type": "stream",
     "text": [
      "✅ selenium is already installed.\n",
      "📦 beautifulsoup4 not found. Installing...\n",
      "✅ beautifulsoup4 installed successfully!\n",
      "✅ pandas is already installed.\n",
      "✅ requests is already installed.\n",
      "✅ pyclip is already installed.\n",
      "\n",
      "🎉 Environment is ready!\n"
     ]
    }
   ],
   "execution_count": 1
  },
  {
   "metadata": {},
   "cell_type": "markdown",
   "source": [
    "# 🛠️ Cell 1: Imports\n",
    "---\n",
    "Imports all necessary Python libraries for the script to function.\n",
    "\n",
    "✅ **What It Includes**:\n",
    "- Automation (`selenium`)\n",
    "- Web scraping (`BeautifulSoup`)\n",
    "- Data handling (`pandas`)\n",
    "- API requests (`requests`)\n",
    "- Clipboard access (`pyclip`)\n",
    "- File and JSON operations\n",
    "\n",
    "📌 **When to Use**:\n",
    "Run this **once** every time you open the notebook."
   ],
   "id": "c5d290eb0fc0d791"
  },
  {
   "cell_type": "code",
   "id": "initial_id",
   "metadata": {
    "collapsed": true,
    "ExecuteTime": {
     "end_time": "2025-05-22T23:13:30.530877Z",
     "start_time": "2025-05-22T23:13:28.714543Z"
    }
   },
   "source": [
    "from selenium import webdriver\n",
    "from selenium.webdriver.chrome.options import Options\n",
    "from IPython.display import Markdown, display\n",
    "from bs4 import BeautifulSoup\n",
    "import pandas as pd\n",
    "import requests\n",
    "import pyclip\n",
    "import os\n",
    "import json"
   ],
   "outputs": [],
   "execution_count": 1
  },
  {
   "metadata": {},
   "cell_type": "markdown",
   "source": [
    "# 🧠 Cell 2: Function Definitions\n",
    "---\n",
    "This cell defines all the core functions used in the notebook.\n",
    "\n",
    "✅ **What It Does**:\n",
    "- Sets up reusable code blocks to:\n",
    "  - Load and save cookies\n",
    "  - Open Chrome and log in\n",
    "  - Fetch reference data\n",
    "  - Check registration and match percentages\n",
    "  - Display results cleanly\n",
    "\n",
    "📌 **When to Use**:\n",
    "Run once at the beginning of each session.\n",
    "Must be run **before any other code cells** that depend on these functions."
   ],
   "id": "2203c4145a7eaa9"
  },
  {
   "metadata": {
    "ExecuteTime": {
     "end_time": "2025-05-22T23:16:16.391763Z",
     "start_time": "2025-05-22T23:16:16.382738Z"
    }
   },
   "cell_type": "code",
   "source": [
    "def save_cookies_to_file(cookies, filename=\"cookies.json\"):\n",
    "    with open(filename, \"w\") as f:\n",
    "        json.dump(cookies, f)\n",
    "\n",
    "def load_cookies_from_file(filename=\"cookies.json\"):\n",
    "    if os.path.exists(filename):\n",
    "        with open(filename, \"r\") as f:\n",
    "            return json.load(f)\n",
    "    return None\n",
    "\n",
    "def is_session_valid(session):\n",
    "    \"\"\"Check if kog.tw session is still valid\"\"\"\n",
    "    try:\n",
    "        resp = session.get(\"https://kog.tw/player_edit.php?player=\")\n",
    "        # Player edit page without player param usually redirects if not logged in\n",
    "        return resp.status_code == 200 and \"inputEmail\" in resp.text\n",
    "    except:\n",
    "        return False\n",
    "\n",
    "def acquire_cookies():\n",
    "    \"\"\"Main cookie acquisition logic\"\"\"\n",
    "    # Try loading cookies from file first\n",
    "    cookies = load_cookies_from_file()\n",
    "    if cookies:\n",
    "        print(\"⌛ Loaded cookies from file. Verifying...\")\n",
    "        session = requests.Session()\n",
    "        session.cookies.update(cookies)\n",
    "        if is_session_valid(session):\n",
    "            print(\"🍪 Cookies are still valid!\")\n",
    "            return cookies\n",
    "        else:\n",
    "            print(\"❌ Cookies expired or invalid. Need to log in again.\")\n",
    "\n",
    "    # Otherwise, manual login\n",
    "    chrome_options = Options()\n",
    "    chrome_options.add_argument(\"--no-sandbox\")\n",
    "    chrome_options.add_argument(\"--disable-dev-shm-usage\")\n",
    "    chrome_options.add_argument(\"--disable-gpu\")\n",
    "    chrome_options.add_argument(\"--window-size=1920,1080\")\n",
    "\n",
    "    driver = webdriver.Chrome(options=chrome_options)\n",
    "    driver.get(\"https://kog.tw\")\n",
    "    print(\"Browser opened. Please log in manually...\")\n",
    "\n",
    "    while True:\n",
    "        user_input = input(\"Type 'done' after logging in or 'exit' to cancel: \")\n",
    "        if user_input.lower() == 'done':\n",
    "            break\n",
    "        if user_input.lower() == 'exit':\n",
    "            driver.quit()\n",
    "            return None\n",
    "        print(\"⌛ Waiting for login...\")\n",
    "\n",
    "    cookies = {\n",
    "        c['name']: c['value']\n",
    "        for c in driver.get_cookies()\n",
    "        if c['name'] in ('PHPSESSID', 'cf_clearance')\n",
    "    }\n",
    "    driver.quit()\n",
    "\n",
    "    save_cookies_to_file(cookies)\n",
    "    print(\"💾 Saved new cookies to file.\")\n",
    "    return cookies\n",
    "\n",
    "def manual_cookie_fallback():\n",
    "    print(\"Alternative method:\")\n",
    "    print(\"1. Visit https://kog.tw in Chrome\")\n",
    "    print(\"2. Open DevTools (F12 → Network tab)\")\n",
    "    print(\"3. Refresh and copy a request's 'Cookie' header\")\n",
    "    cookie_header = input(\"Paste cookie header here: \")\n",
    "    return dict(pair.split(\"=\", 1) for pair in cookie_header.split(\"; \"))\n",
    "\n",
    "def scrape_player_data(session, ref_number):\n",
    "    url = f\"https://kog.tw/player_migration.php?ref={ref_number}\"\n",
    "    response = session.get(url)\n",
    "\n",
    "    if response.status_code != 200:\n",
    "        print(f\"❗ [{response.status_code}] ERROR: Unable to fetch the page.\")\n",
    "        return []\n",
    "\n",
    "    soup = BeautifulSoup(response.text, \"html.parser\")\n",
    "    headers = soup.find_all(\"h1\")\n",
    "\n",
    "    if len(headers) <= 1:\n",
    "        print(\"❗ ERROR: Not enough h1 elements on the page.\")\n",
    "        return []\n",
    "\n",
    "    table = headers[1].find_next(\"table\")\n",
    "    return [\n",
    "        {\n",
    "            \"name\": row.find_all(\"td\")[0].text.strip(),\n",
    "            \"finishes\": row.find_all(\"td\")[1].text.strip()\n",
    "        }\n",
    "        for row in table.find_all(\"tr\")[1:]\n",
    "        if len(row.find_all(\"td\")) == 2\n",
    "    ]\n",
    "\n",
    "def check_player_info(session, player_name):\n",
    "    url = f\"https://kog.tw/player_edit.php?player={player_name}\"\n",
    "    try:\n",
    "        response = session.get(url)\n",
    "        response.raise_for_status()\n",
    "\n",
    "        soup = BeautifulSoup(response.text, \"html.parser\")\n",
    "        email_input = soup.find(\"input\", {\"name\": \"inputEmail\"})\n",
    "\n",
    "        if not email_input:\n",
    "            return \"❌ UNREGISTERED (NO EMAIL FIELD)\"\n",
    "\n",
    "        email = email_input.get(\"value\", \"\")\n",
    "        return \"✅ REGISTERED\" if email.strip() else \"❌ UNREGISTERED\"\n",
    "\n",
    "    except Exception as e:\n",
    "        print(f\"Error checking {player_name}: {str(e)}\")\n",
    "        return \"ERROR\"\n",
    "\n",
    "def check_player_ip(session, player_name, ip_address):\n",
    "    \"\"\"Check a player using IP address via kog.tw API.\"\"\"\n",
    "    try:\n",
    "        url = \"https://kog.tw/api.php?automated=1\"\n",
    "\n",
    "        payload = {\n",
    "            \"type\": \"user/admin/check_player\",\n",
    "            \"data\": {\n",
    "                \"playername\": player_name,\n",
    "                \"playerip\": ip_address\n",
    "            }\n",
    "        }\n",
    "\n",
    "        headers = {\n",
    "            \"Content-Type\": \"application/json\"\n",
    "        }\n",
    "\n",
    "        response = session.post(url, json=payload, headers=headers)\n",
    "        response.raise_for_status()\n",
    "\n",
    "        data = response.json()\n",
    "\n",
    "    except Exception as e:\n",
    "        print(f\"❗ Error checking IP: {str(e)}\")\n",
    "        return None\n",
    "\n",
    "def check_all_players(session, player_data, ip_address):\n",
    "    \"\"\"Check all players for registration status and IP match percentage.\"\"\"\n",
    "    results = []\n",
    "\n",
    "    for player in player_data:\n",
    "        name = player['name']\n",
    "        finishes = player['finishes']\n",
    "\n",
    "        # Check if player is registered\n",
    "        status = check_player_info(session, name)\n",
    "\n",
    "        # Default percentage = None\n",
    "        percentage = None\n",
    "\n",
    "        # If registered, check IP percentage\n",
    "        if status == \"REGISTERED\":\n",
    "            percentage = check_player_ip(session, name, ip_address)\n",
    "\n",
    "        results.append({\n",
    "            'name': name,\n",
    "            'status': status,\n",
    "            'finishes': finishes,\n",
    "            'match_percentage': percentage\n",
    "        })\n",
    "\n",
    "    return results\n",
    "\n",
    "def generate_output(review_name, player_data):\n",
    "    output = (\n",
    "        f\"## Manual review is for: `{review_name}`\\n\"\n",
    "        \"Have you registered or completed a map with one or more of the following names?\\n\\n\"\n",
    "    )\n",
    "    output += \"\\n\".join(f\"- `{p['name']}`\" for p in player_data)\n",
    "    output += (\n",
    "        \"\\n\\n### Please elaborate your case:\\n\"\n",
    "        \"- If you already registered one of these names, why are you trying to register a new name?\\n\"\n",
    "        \"- If you just finished with one of these names, please do not finish maps for other names besides the one associated with your account.\\n\"\n",
    "        \"- If you did not register or finish maps for any of these names, please confirm that you did not register or finish any maps for these names.\\n\\n\"\n",
    "        \"*While you are waiting for us, make sure to familiarize yourself with our [#kog-rulebook](https://discord.com/channels/342003344476471296/978628693389885490)*\"\n",
    "    )\n",
    "    return output\n",
    "\n",
    "def display_results_table(results):\n",
    "    \"\"\"Display table nicely in Jupyter\"\"\"\n",
    "    if not results:\n",
    "        print(\"❌ No results to display\")\n",
    "        return\n",
    "\n",
    "    pd.set_option('display.max_rows', None)\n",
    "\n",
    "    df = pd.DataFrame(results)\n",
    "\n",
    "    display(df)\n",
    "\n",
    "def display_full_results(results):\n",
    "    \"\"\"Display the full results as a DataFrame.\"\"\"\n",
    "    df = pd.DataFrame(results)\n",
    "    display(df)  # In Jupyter this will show a nice clean table"
   ],
   "id": "74afe9a83764c71",
   "outputs": [],
   "execution_count": 3
  },
  {
   "metadata": {},
   "cell_type": "markdown",
   "source": [
    "# 🍪 Cell 3: Grab Cookies\n",
    "---\n",
    "Handles user login and manages session cookies.\n",
    "\n",
    "🔐 **How It Works**:\n",
    "1. Checks if `cookies.json` already exists and is still valid.\n",
    "2. If not, opens a Chrome window and prompts you to login at [kog.tw](https://kog.tw).\n",
    "3. After logging in, you’ll type `done` to save cookies.\n",
    "\n",
    "💾 **Outcome**:\n",
    "Creates or updates `cookies.json` for future automated requests.\n",
    "\n",
    "📌 **Important**:\n",
    "This is only needed **if no cookies exist** or **your session expires**."
   ],
   "id": "fc67dcef3726ccab"
  },
  {
   "metadata": {
    "ExecuteTime": {
     "end_time": "2025-05-22T23:17:12.914262Z",
     "start_time": "2025-05-22T23:16:24.100508Z"
    }
   },
   "cell_type": "code",
   "source": [
    "cookies = acquire_cookies()\n",
    "if not cookies:\n",
    "    cookies = manual_cookie_fallback()"
   ],
   "id": "263476b768c30dac",
   "outputs": [
    {
     "name": "stdout",
     "output_type": "stream",
     "text": [
      "⌛ Loaded cookies from file. Verifying...\n",
      "❌ Cookies expired or invalid. Need to log in again.\n",
      "Browser opened. Please log in manually...\n",
      "💾 Saved new cookies to file.\n"
     ]
    }
   ],
   "execution_count": 4
  },
  {
   "metadata": {},
   "cell_type": "markdown",
   "source": [
    "# 🔎 Cell 4: Locate Review with Reference Number and Check Usernames\n",
    "---\n",
    "Looks up review data using a **reference number** and checks linked usernames.\n",
    "\n",
    "🧠 **What It Does**:\n",
    "- Finds the account linked to the reference number.\n",
    "- Extracts all alternate usernames.\n",
    "- Automatically skips the first name (it’s the same as the original account).\n",
    "- Checks each one for **registration status**.\n",
    "\n",
    "📌 **When to Use**:\n",
    "After your cookies are working and you're ready to start a lookup."
   ],
   "id": "87089806deaa7e70"
  },
  {
   "metadata": {
    "ExecuteTime": {
     "end_time": "2025-05-22T23:29:30.280111Z",
     "start_time": "2025-05-22T23:29:24.366125Z"
    }
   },
   "cell_type": "code",
   "source": [
    "session = requests.Session()\n",
    "session.cookies.update(cookies)\n",
    "\n",
    "ref_number = input(\"Enter the reference number: \")\n",
    "player_data = scrape_player_data(session, ref_number)\n",
    "\n",
    "review_name = player_data[0]['name']\n",
    "player_data = player_data[1:]\n",
    "\n",
    "if not player_data:\n",
    "    print(\"❌ No player data found.\")\n",
    "else:\n",
    "    print(\"✅ Player data found!\")\n",
    "\n",
    "\n",
    "print(f\"⌛ [{ref_number}] Checking {len(player_data)} players...\")\n",
    "results = []\n",
    "\n",
    "for player in player_data:\n",
    "    status = check_player_info(session, player['name'])\n",
    "    results.append({\n",
    "        'name': player['name'],\n",
    "        'status': status,\n",
    "        'finishes': player['finishes']\n",
    "    })\n",
    "\n",
    "registered_name = [\n",
    "    r for r in results if r['status'] == \"✅ REGISTERED\"\n",
    "]\n",
    "\n",
    "print(\"✅ Check complete!\")"
   ],
   "id": "e3e93a8f5c6fdfea",
   "outputs": [
    {
     "name": "stdout",
     "output_type": "stream",
     "text": [
      "✅ Player data found!\n",
      "⌛ [ref1714057] Checking 5 players...\n",
      "✅ Check complete!\n"
     ]
    }
   ],
   "execution_count": 28
  },
  {
   "metadata": {},
   "cell_type": "markdown",
   "source": [
    "# 📝 Cell 5: Generate Copy/Paste Text\n",
    "---\n",
    "Generates a formatted message with the results from **Cell 4**, ready for pasting into chat.\n",
    "\n",
    "🧾 **What It Includes**:\n",
    "- Each checked username\n",
    "- Their registration status\n",
    "- Formatted neatly for readability\n",
    "\n",
    "📋 **Bonus**:\n",
    "Automatically copies the message to your clipboard for fast sharing.\n",
    "\n",
    "📌 **When to Use**:\n",
    "Right after checking usernames. Makes reporting results super quick!"
   ],
   "id": "3cbec23fa2fafdd1"
  },
  {
   "metadata": {
    "ExecuteTime": {
     "end_time": "2025-05-22T23:30:22.155448Z",
     "start_time": "2025-05-22T23:30:22.150791Z"
    }
   },
   "cell_type": "code",
   "source": [
    "full_output = generate_output(review_name, player_data)\n",
    "display(Markdown(full_output))\n",
    "\n",
    "try:\n",
    "    pyclip.copy(full_output)\n",
    "    print(\"📋 Copied to clipboard.\")\n",
    "except:\n",
    "    print(\"❌ Could not copy to clipboard (pyclip error).\")\n"
   ],
   "id": "25550108a5de30af",
   "outputs": [
    {
     "data": {
      "text/plain": [
       "<IPython.core.display.Markdown object>"
      ],
      "text/markdown": "## Manual review is for: `Motto`\nHave you registered or completed a map with one or more of the following names?\n\n- `KedyDeluxe`\n- `KlipLipp`\n- `Honda City`\n- `Kurumi`\n- `Tahacimke`\n\n### Please elaborate your case:\n- If you already registered one of these names, why are you trying to register a new name?\n- If you just finished with one of these names, please do not finish maps for other names besides the one associated with your account.\n- If you did not register or finish maps for any of these names, please confirm that you did not register or finish any maps for these names.\n\n*While you are waiting for us, make sure to familiarize yourself with our [#kog-rulebook](https://discord.com/channels/342003344476471296/978628693389885490)*"
     },
     "metadata": {},
     "output_type": "display_data"
    },
    {
     "name": "stdout",
     "output_type": "stream",
     "text": [
      "📋 Copied to clipboard.\n"
     ]
    }
   ],
   "execution_count": 31
  },
  {
   "metadata": {},
   "cell_type": "markdown",
   "source": [
    "# 🗂️ Cell 6: Collect Registered Usernames Only\n",
    "---\n",
    "Pulls out just the usernames that came back as ✅ REGISTERED in Cell Y and stores them in a tidy list for anything you need next.\n",
    "\n",
    "**🧾 What It Does**:\n",
    "- Scans the full results list\n",
    "- Filters for entries whose status is ✅ REGISTERED\n",
    "- Builds a clean, duplicate-free list called registered_names\n",
    "\n",
    "**⚙️ Under the Hood**: Uses a one-liner list-comprehension (or a loop, if you prefer) so you always get the freshest set of confirmed names.\n",
    "\n",
    "**📋 Bonus**: Returns the list in the same order the users were checked—handy if you need to keep things sequential.\n",
    "\n",
    "**📌 When to Run It**: Immediately after your status-checking cell finishes. Run this, then hand the list off to downstream tasks like generating the manual-review template or syncing to your database."
   ],
   "id": "8ad48ed24630fbf"
  },
  {
   "metadata": {
    "ExecuteTime": {
     "end_time": "2025-05-22T23:30:05.761990Z",
     "start_time": "2025-05-22T23:30:05.758423Z"
    }
   },
   "cell_type": "code",
   "source": [
    "registered_output = generate_output(review_name, registered_name)\n",
    "display(Markdown(registered_output))\n",
    "\n",
    "try:\n",
    "    pyclip.copy(registered_output)\n",
    "    print(\"📋 Copied to clipboard.\")\n",
    "except:\n",
    "    print(\"❌ Could not copy to clipboard (pyclip error).\")"
   ],
   "id": "5a556c0548c71fd3",
   "outputs": [
    {
     "data": {
      "text/plain": [
       "<IPython.core.display.Markdown object>"
      ],
      "text/markdown": "## Manual review is for: `Motto`\nHave you registered or completed a map with one or more of the following names?\n\n- `KedyDeluxe`\n- `KlipLipp`\n- `Kurumi`\n- `Tahacimke`\n\n### Please elaborate your case:\n- If you already registered one of these names, why are you trying to register a new name?\n- If you just finished with one of these names, please do not finish maps for other names besides the one associated with your account.\n- If you did not register or finish maps for any of these names, please confirm that you did not register or finish any maps for these names.\n\n*While you are waiting for us, make sure to familiarize yourself with our [#kog-rulebook](https://discord.com/channels/342003344476471296/978628693389885490)*"
     },
     "metadata": {},
     "output_type": "display_data"
    },
    {
     "name": "stdout",
     "output_type": "stream",
     "text": [
      "📋 Copied to clipboard.\n"
     ]
    }
   ],
   "execution_count": 30
  },
  {
   "metadata": {},
   "cell_type": "markdown",
   "source": [
    "# 📊 Cell 7: Display Status Report *(Optional)*\n",
    "---\n",
    "\n",
    "This cell takes the results from **Cell 5** — which contains the registration status of each username — and displays them in a neatly formatted table using **Pandas**.\n",
    "\n",
    "✅ **Purpose**:\n",
    "To quickly scan and verify which usernames are registered or unregistered, along with their associated map finishes.\n",
    "\n",
    "🧠 **What It Does**:\n",
    "- Converts the list of results (name, status, finishes) into a `DataFrame`.\n",
    "- Outputs the table with improved formatting in Jupyter Notebook (not just plain text).\n",
    "\n",
    "📌 **When to Use**:\n",
    "- After you’ve run **Cell 5** and want a clearer visual overview.\n",
    "- Optional step for better readability — does not affect any later cells.\n",
    "\n",
    "🖥️ **Output Example**:\n",
    "| name       | status             | finishes |\n",
    "|------------|--------------------|----------|\n",
    "| `Player1`  | ✅ REGISTERED       | 12       |\n",
    "| `Player2`  | ❌ UNREGISTERED     | 0        |"
   ],
   "id": "350982af4d1cf1"
  },
  {
   "metadata": {
    "ExecuteTime": {
     "end_time": "2025-05-22T23:17:25.712431Z",
     "start_time": "2025-05-22T23:17:25.701461Z"
    }
   },
   "cell_type": "code",
   "source": "display_results_table(results)",
   "id": "8725b8d3a238aca4",
   "outputs": [
    {
     "data": {
      "text/plain": [
       "         name          status finishes\n",
       "0  KedyDeluxe    ✅ REGISTERED        1\n",
       "1    KlipLipp    ✅ REGISTERED       11\n",
       "2  Honda City  ❌ UNREGISTERED        1\n",
       "3      Kurumi    ✅ REGISTERED       22\n",
       "4   Tahacimke    ✅ REGISTERED        7"
      ],
      "text/html": [
       "<div>\n",
       "<style scoped>\n",
       "    .dataframe tbody tr th:only-of-type {\n",
       "        vertical-align: middle;\n",
       "    }\n",
       "\n",
       "    .dataframe tbody tr th {\n",
       "        vertical-align: top;\n",
       "    }\n",
       "\n",
       "    .dataframe thead th {\n",
       "        text-align: right;\n",
       "    }\n",
       "</style>\n",
       "<table border=\"1\" class=\"dataframe\">\n",
       "  <thead>\n",
       "    <tr style=\"text-align: right;\">\n",
       "      <th></th>\n",
       "      <th>name</th>\n",
       "      <th>status</th>\n",
       "      <th>finishes</th>\n",
       "    </tr>\n",
       "  </thead>\n",
       "  <tbody>\n",
       "    <tr>\n",
       "      <th>0</th>\n",
       "      <td>KedyDeluxe</td>\n",
       "      <td>✅ REGISTERED</td>\n",
       "      <td>1</td>\n",
       "    </tr>\n",
       "    <tr>\n",
       "      <th>1</th>\n",
       "      <td>KlipLipp</td>\n",
       "      <td>✅ REGISTERED</td>\n",
       "      <td>11</td>\n",
       "    </tr>\n",
       "    <tr>\n",
       "      <th>2</th>\n",
       "      <td>Honda City</td>\n",
       "      <td>❌ UNREGISTERED</td>\n",
       "      <td>1</td>\n",
       "    </tr>\n",
       "    <tr>\n",
       "      <th>3</th>\n",
       "      <td>Kurumi</td>\n",
       "      <td>✅ REGISTERED</td>\n",
       "      <td>22</td>\n",
       "    </tr>\n",
       "    <tr>\n",
       "      <th>4</th>\n",
       "      <td>Tahacimke</td>\n",
       "      <td>✅ REGISTERED</td>\n",
       "      <td>7</td>\n",
       "    </tr>\n",
       "  </tbody>\n",
       "</table>\n",
       "</div>"
      ]
     },
     "metadata": {},
     "output_type": "display_data"
    }
   ],
   "execution_count": 8
  },
  {
   "metadata": {},
   "cell_type": "markdown",
   "source": [
    "# 🗂️ Cell 8: Generate Verification Prompt *(Optional)*\n",
    "---\n",
    "Creates a detailed **follow-up message** to send to a user who has map finishes on multiple registered usernames.\n",
    "\n",
    "🧠 **What It Does**:\n",
    "- Lists all **registered usernames** from the current result.\n",
    "- Adds a polite prompt asking the user for clarification.\n",
    "- Formats the message in Markdown with backticks and emphasis.\n",
    "- Attempts to **copy** the entire message to your clipboard.\n",
    "\n",
    "📋 **Message Example**:\n",
    "```markdown\n",
    "### You have map finishes on the following registered usernames: `User1`, `User2`, `User3`\n",
    "\n",
    "*Are you aware that only one account is allowed per player?*\n",
    "\n",
    "What can you tell me about these accounts?\n",
    "```\n",
    "\n",
    "💡 **Clipboard Support**:\n",
    "If successful, it prints: `📋 Copied to clipboard.`\n",
    "If there's an issue with `pyclip`, it prints an error instead.\n",
    "\n",
    "📌 **When to Use**:\n",
    "After verifying registrations — this cell is useful for **manual outreach** or moderation follow-ups."
   ],
   "id": "4fcbfe6540684a1"
  },
  {
   "metadata": {
    "ExecuteTime": {
     "end_time": "2025-05-19T15:40:24.833147Z",
     "start_time": "2025-05-19T15:40:24.830199Z"
    }
   },
   "cell_type": "code",
   "source": [
    "verification = f\"### You have map finishes on the following registered usernames: \"\n",
    "verification += \", \".join(f\"`{p['name']}`\" for p in results if p['status'] == \"✅ REGISTERED\")\n",
    "\n",
    "verification += f\"\\n*Are you aware that only one account is allowed per player?*\"\n",
    "\n",
    "verification += (f\"\\n\\nWhat can you tell me about these accounts?\")\n",
    "\n",
    "print(verification)\n",
    "\n",
    "try:\n",
    "    pyclip.copy(verification)\n",
    "    print(\"\\n📋 Copied to clipboard.\")\n",
    "except:\n",
    "    print(\"\\n❌ Could not copy to clipboard (pyclip error).\")"
   ],
   "id": "282a8cc0b8618ebe",
   "outputs": [
    {
     "name": "stdout",
     "output_type": "stream",
     "text": [
      "### You have map finishes on the following registered usernames: `paulwalker`\n",
      "*Are you aware that only one account is allowed per player?*\n",
      "\n",
      "What can you tell me about these accounts?\n",
      "\n",
      "📋 Copied to clipboard.\n"
     ]
    }
   ],
   "execution_count": 21
  },
  {
   "metadata": {},
   "cell_type": "markdown",
   "source": [
    "# 🧮 Cell 9: Display Full Report *(Optional)*\n",
    "---\n",
    "Expands the previous report by checking **match percentages** for all registered usernames.\n",
    "\n",
    "📊 **What It Adds**:\n",
    "- Percentage match for each name (via the API).\n",
    "- Appends this data to the same table from **Cell 6**.\n",
    "\n",
    "🎯 **Useful For**:\n",
    "- Deeper analysis\n",
    "- Flagging suspicious overlaps\n",
    "\n",
    "📌 **When to Use**:\n",
    "After you’ve checked usernames and want full details in one place."
   ],
   "id": "6cdcc83d2e63cb3d"
  },
  {
   "metadata": {
    "ExecuteTime": {
     "end_time": "2025-04-29T13:45:33.541337Z",
     "start_time": "2025-04-29T13:45:32.729450Z"
    }
   },
   "cell_type": "code",
   "source": [
    "ip_address = input(\"Enter IP address to check: \")\n",
    "\n",
    "if ip_address:\n",
    "    full_results = check_all_players(session, player_data, ip_address)\n",
    "    display_full_results(full_results)\n",
    "\n",
    "else:\n",
    "    print(\"❌ No IP address found.\")"
   ],
   "id": "e1a0b397e9e863f2",
   "outputs": [
    {
     "name": "stdout",
     "output_type": "stream",
     "text": [
      "No IP address found.\n"
     ]
    }
   ],
   "execution_count": 10
  }
 ],
 "metadata": {
  "kernelspec": {
   "display_name": "Python 3",
   "language": "python",
   "name": "python3"
  },
  "language_info": {
   "codemirror_mode": {
    "name": "ipython",
    "version": 2
   },
   "file_extension": ".py",
   "mimetype": "text/x-python",
   "name": "python",
   "nbconvert_exporter": "python",
   "pygments_lexer": "ipython2",
   "version": "2.7.6"
  }
 },
 "nbformat": 4,
 "nbformat_minor": 5
}
